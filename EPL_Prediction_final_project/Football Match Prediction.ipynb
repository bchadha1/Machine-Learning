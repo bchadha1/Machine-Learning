{
 "cells": [
  {
   "cell_type": "code",
   "execution_count": null,
   "metadata": {},
   "outputs": [],
   "source": [
    "import pandas as pd\n",
    "import numpy as np\n",
    "import seaborn as sns\n",
    "import matplotlib.pyplot as mat"
   ]
  },
  {
   "cell_type": "raw",
   "metadata": {},
   "source": [
    "# Import FIFA 19 and FIFA 20 dataset"
   ]
  },
  {
   "cell_type": "code",
   "execution_count": null,
   "metadata": {},
   "outputs": [],
   "source": [
    "fifa19 = pd.read_csv('data.csv')\n",
    "fifa20 = pd.read_csv('fifa20_data.csv')"
   ]
  },
  {
   "cell_type": "code",
   "execution_count": null,
   "metadata": {},
   "outputs": [],
   "source": [
    "fifa20.columns\n"
   ]
  },
  {
   "cell_type": "code",
   "execution_count": null,
   "metadata": {},
   "outputs": [],
   "source": [
    "fifa19.columns"
   ]
  },
  {
   "cell_type": "code",
   "execution_count": null,
   "metadata": {},
   "outputs": [],
   "source": [
    "fifa20.head()"
   ]
  },
  {
   "cell_type": "code",
   "execution_count": null,
   "metadata": {
    "scrolled": true
   },
   "outputs": [],
   "source": [
    "fifa19.head()"
   ]
  },
  {
   "cell_type": "markdown",
   "metadata": {},
   "source": [
    "# Dropping unwanted columns from FIFA19 dataset"
   ]
  },
  {
   "cell_type": "code",
   "execution_count": null,
   "metadata": {},
   "outputs": [],
   "source": [
    "fifa19 = fifa19.drop(fifa19[['ID','Unnamed: 0','Value','Height','Weight','Wage','Weak Foot','Special',\n",
    "                 'Preferred Foot','Skill Moves','Work Rate','Body Type','Photo','Nationality','Flag',\n",
    "                'Club Logo','Real Face','Jersey Number','Joined','Loaned From','Contract Valid Until',\n",
    "                'Release Clause']],axis=1)"
   ]
  },
  {
   "cell_type": "markdown",
   "metadata": {},
   "source": [
    "# Removing FIFA 19 columns (if exist and match) from FIFA 20 columns and vice versa"
   ]
  },
  {
   "cell_type": "code",
   "execution_count": null,
   "metadata": {},
   "outputs": [],
   "source": [
    "difcol20 = fifa20.columns.difference(fifa19.columns)\n",
    "difcol19 = fifa19.columns.difference(fifa20.columns)"
   ]
  },
  {
   "cell_type": "code",
   "execution_count": null,
   "metadata": {},
   "outputs": [],
   "source": [
    "difcol20"
   ]
  },
  {
   "cell_type": "code",
   "execution_count": null,
   "metadata": {},
   "outputs": [],
   "source": [
    "difcol19"
   ]
  },
  {
   "cell_type": "markdown",
   "metadata": {},
   "source": [
    "# Renaming columns in FIFA20 to match with the FIFA 19 columns and removing the unmatched columns"
   ]
  },
  {
   "cell_type": "code",
   "execution_count": null,
   "metadata": {},
   "outputs": [],
   "source": [
    "fifa20.rename(columns={'Ball Control': 'BallControl','FK Accuracy': 'FKAccuracy','GK Diving': 'GKDiving','GK Positioning': 'GKPositioning','GK Handling': 'GKHandling','GK Reflexes': 'GKReflexes','Heading Accuracy': 'HeadingAccuracy',\n",
    "                       'Short Passing': 'ShortPassing','Shot Power': 'ShotPower','Sliding Tackle': 'SlidingTackle','Sprint Speed':\n",
    "                      'SprintSpeed','Standing Tackle': 'StandingTackle','Long Passing':'LongPassing','Long Shots':\n",
    "                       'LongShots'},inplace=True)\n",
    "difcol20 = fifa20.columns.difference(fifa19.columns)\n",
    "fifa20=fifa20.drop(fifa20[difcol20],axis=1)\n",
    "difcol19 = fifa19.columns.difference(fifa20.columns)\n",
    "fifa19 = fifa19.drop(fifa19[difcol19],axis=1)"
   ]
  },
  {
   "cell_type": "code",
   "execution_count": null,
   "metadata": {},
   "outputs": [],
   "source": [
    "fifa20.columns"
   ]
  },
  {
   "cell_type": "code",
   "execution_count": null,
   "metadata": {},
   "outputs": [],
   "source": [
    "fifa19.columns"
   ]
  },
  {
   "cell_type": "markdown",
   "metadata": {},
   "source": [
    "# Creating a new column for filtering goal keepers from non-GK players"
   ]
  },
  {
   "cell_type": "code",
   "execution_count": null,
   "metadata": {},
   "outputs": [],
   "source": [
    "fifa19['New Position']=0\n",
    "fifa19['New Position'][fifa19['Position']=='GK']='GK'\n",
    "fifa20['New Position']=0\n",
    "fifa20['New Position'][fifa20['Position']=='GK']='GK'"
   ]
  },
  {
   "cell_type": "markdown",
   "metadata": {},
   "source": [
    "# Two new dataframes containing GK statistics from FIFA 19 and 20"
   ]
  },
  {
   "cell_type": "code",
   "execution_count": null,
   "metadata": {},
   "outputs": [],
   "source": [
    "gk19 = fifa19[fifa19['New Position']=='GK']\n",
    "gk20 = fifa20[fifa20['New Position']=='GK']"
   ]
  },
  {
   "cell_type": "code",
   "execution_count": null,
   "metadata": {},
   "outputs": [],
   "source": [
    "gk20.head()"
   ]
  },
  {
   "cell_type": "markdown",
   "metadata": {},
   "source": [
    "# Removing attributes that are not related to Goal keepers"
   ]
  },
  {
   "cell_type": "code",
   "execution_count": null,
   "metadata": {},
   "outputs": [],
   "source": [
    "gk19 = gk19.drop(['Name','Crossing','Finishing','HeadingAccuracy','ShortPassing','Volleys','Dribbling','Curve','FKAccuracy',\n",
    "              'LongPassing','BallControl','Acceleration','SprintSpeed', 'Agility', 'Balance', 'ShotPower',\n",
    "              'LongShots','Interceptions','Positioning','Vision','Penalties','Marking','StandingTackle','SlidingTackle',\n",
    "             'Aggression','Stamina'],\n",
    "            axis=1)\n",
    "\n",
    "gk20 = gk20.drop(['Name','Crossing','Finishing','HeadingAccuracy','ShortPassing','Volleys','Dribbling','Curve','FKAccuracy',\n",
    "              'LongPassing','BallControl','Acceleration','SprintSpeed', 'Agility', 'Balance', 'ShotPower',\n",
    "              'LongShots','Interceptions','Positioning','Vision','Penalties','Marking','StandingTackle','SlidingTackle',\n",
    "             'Aggression','Stamina'],\n",
    "            axis=1)"
   ]
  },
  {
   "cell_type": "markdown",
   "metadata": {},
   "source": [
    "# Appending \"GK\" to column names to identify easily"
   ]
  },
  {
   "cell_type": "code",
   "execution_count": null,
   "metadata": {},
   "outputs": [],
   "source": [
    "gk19.columns = [str(col)+ \" GK\" for col in gk19.columns]\n",
    "gk19['Club']=gk19['Club GK']\n",
    "gk19=gk19.drop(['Club GK'],axis=1)\n",
    "gk19.head()\n"
   ]
  },
  {
   "cell_type": "code",
   "execution_count": null,
   "metadata": {},
   "outputs": [],
   "source": [
    "gk20.columns = [str(col) + \" GK\" for col in gk20.columns]\n",
    "gk20['Club']=gk20['Club GK']\n",
    "gk20=gk20.drop(['Club GK'],axis=1)"
   ]
  },
  {
   "cell_type": "code",
   "execution_count": null,
   "metadata": {},
   "outputs": [],
   "source": [
    "gk20.head()"
   ]
  },
  {
   "cell_type": "markdown",
   "metadata": {},
   "source": [
    "# Group all GKs under each club by the mean values of each attribute and sort them using 'Overall GK' attribute"
   ]
  },
  {
   "cell_type": "code",
   "execution_count": null,
   "metadata": {},
   "outputs": [],
   "source": [
    "gk19teams = gk19.groupby('Club').mean().sort_values('Overall GK',ascending=False)"
   ]
  },
  {
   "cell_type": "code",
   "execution_count": null,
   "metadata": {},
   "outputs": [],
   "source": [
    "gk19teams.reset_index(inplace=True)\n",
    "gk19teams.head()\n",
    "#gk19teams.head()"
   ]
  },
  {
   "cell_type": "code",
   "execution_count": null,
   "metadata": {},
   "outputs": [],
   "source": [
    "gk20teams = gk20.groupby('Club').mean().sort_values('Overall GK',ascending=False)\n",
    "gk20teams"
   ]
  },
  {
   "cell_type": "code",
   "execution_count": null,
   "metadata": {},
   "outputs": [],
   "source": [
    "gk20teams.reset_index(inplace=True)\n",
    "gk20teams.head()"
   ]
  },
  {
   "cell_type": "markdown",
   "metadata": {},
   "source": [
    "# Creating dataframes for non-GK positions"
   ]
  },
  {
   "cell_type": "code",
   "execution_count": null,
   "metadata": {},
   "outputs": [],
   "source": [
    "notgk19= fifa19[fifa19['New Position']!= 'GK']\n",
    "notgk20 = fifa20[fifa20['New Position']!= 'GK']"
   ]
  },
  {
   "cell_type": "code",
   "execution_count": null,
   "metadata": {},
   "outputs": [],
   "source": [
    "notgk19.columns"
   ]
  },
  {
   "cell_type": "markdown",
   "metadata": {},
   "source": [
    "# Dropping GK attributes"
   ]
  },
  {
   "cell_type": "code",
   "execution_count": null,
   "metadata": {},
   "outputs": [],
   "source": [
    "notgk19 = notgk19.drop(['Name','GKDiving','GKHandling','GKPositioning','GKReflexes'],axis=1)\n",
    "notgk20 = notgk20.drop(['Name','GKDiving','GKHandling','GKPositioning','GKReflexes'],axis=1)"
   ]
  },
  {
   "cell_type": "code",
   "execution_count": null,
   "metadata": {},
   "outputs": [],
   "source": [
    "notgk19.head()"
   ]
  },
  {
   "cell_type": "markdown",
   "metadata": {},
   "source": [
    "# Group all players under each club by the mean values of each attribute and sort them using 'Overall' attribute"
   ]
  },
  {
   "cell_type": "code",
   "execution_count": null,
   "metadata": {},
   "outputs": [],
   "source": [
    "notgk19teams = notgk19.groupby('Club').mean().sort_values('Overall',ascending=False)\n",
    "notgk20teams = notgk20.groupby('Club').mean().sort_values('Overall',ascending=False)\n",
    "notgk19teams"
   ]
  },
  {
   "cell_type": "code",
   "execution_count": null,
   "metadata": {},
   "outputs": [],
   "source": [
    "#notgk19teams['Club'] = notgk19teams.index\n",
    "notgk19teams.reset_index(inplace=True)\n",
    "notgk19teams.head()"
   ]
  },
  {
   "cell_type": "code",
   "execution_count": null,
   "metadata": {},
   "outputs": [],
   "source": [
    "notgk20teams.reset_index(inplace=True)\n",
    "notgk20teams.head()"
   ]
  },
  {
   "cell_type": "markdown",
   "metadata": {},
   "source": [
    "# Merging the GK dataframe and non-GK dataframe based on club"
   ]
  },
  {
   "cell_type": "code",
   "execution_count": null,
   "metadata": {},
   "outputs": [],
   "source": [
    "#notgk19teams['Club']\n",
    "teams19=pd.merge(notgk19teams,gk19teams,'right','Club')\n",
    "teams20=pd.merge(notgk20teams,gk20teams,'right','Club')"
   ]
  },
  {
   "cell_type": "markdown",
   "metadata": {},
   "source": [
    "# Dropping a few more attributes that do not affect the overall perfromance"
   ]
  },
  {
   "cell_type": "code",
   "execution_count": null,
   "metadata": {},
   "outputs": [],
   "source": [
    "teams19 = teams19.drop([\"Potential GK\",\"Jumping GK\",\"GKHandling GK\",\"GKPositioning GK\",\"Reactions GK\",\n",
    "                        \"Composure GK\",\"GKDiving GK\",\"Volleys\",\"Curve\",\"FKAccuracy\",\"Jumping\",\"LongShots\",\"Penalties\",],axis=1)\n",
    "teams20 = teams20.drop([\"Potential GK\",\"Jumping GK\",\"GKHandling GK\",\"GKPositioning GK\",\"Reactions GK\",\n",
    "                        \"Composure GK\",\"GKDiving GK\",\"Volleys\",\"Curve\",\"FKAccuracy\",\"Jumping\",\"LongShots\",\"Penalties\",],axis=1)"
   ]
  },
  {
   "cell_type": "markdown",
   "metadata": {},
   "source": [
    "# Selecting the set of clubs from English Premier League "
   ]
  },
  {
   "cell_type": "code",
   "execution_count": null,
   "metadata": {},
   "outputs": [],
   "source": [
    "teams_19 = teams19.loc[teams19['Club'].isin(['Manchester City','Liverpool','Chelsea','Tottenham Hotspur',\n",
    "                                         'Arsenal','Manchester United','Wolverhampton Wanderers',\n",
    "                                         'Everton','Leicester City','West Ham United','Watford','Crystal Palace',\n",
    "                                         'Newcastle United','Bournemouth','Burnley','Southampton','Brighton & Hove Albion',\n",
    "                                         'Cardiff City','Fulham','Huddersfield Town','Sheffield United','Norwich City','Aston Villa'])]\n",
    "teams_20 = teams20.loc[teams20['Club'].isin(['Manchester City','Liverpool','Chelsea','Tottenham Hotspur',\n",
    "                                         'Arsenal','Manchester United','Wolverhampton Wanderers',\n",
    "                                         'Everton','Leicester City','West Ham United','Watford','Crystal Palace',\n",
    "                                         'Newcastle United','Bournemouth','Burnley','Southampton','Brighton & Hove Albion',\n",
    "                                         'Cardiff City','Fulham','Huddersfield Town','Sheffield United','Norwich City','Aston Villa'])]"
   ]
  },
  {
   "cell_type": "code",
   "execution_count": null,
   "metadata": {},
   "outputs": [],
   "source": [
    "teams_20"
   ]
  },
  {
   "cell_type": "code",
   "execution_count": null,
   "metadata": {},
   "outputs": [],
   "source": [
    "teams_19"
   ]
  },
  {
   "cell_type": "code",
   "execution_count": null,
   "metadata": {},
   "outputs": [],
   "source": [
    "teams_20"
   ]
  },
  {
   "cell_type": "code",
   "execution_count": null,
   "metadata": {},
   "outputs": [],
   "source": [
    "teams_19.index = range(23)\n",
    "teams_20.index = range(23)\n"
   ]
  },
  {
   "cell_type": "markdown",
   "metadata": {},
   "source": [
    "# Merging both FIFA 19 and 20 tables based on club"
   ]
  },
  {
   "cell_type": "code",
   "execution_count": null,
   "metadata": {},
   "outputs": [],
   "source": [
    "both = (teams_19.merge(teams_20,left_on='Club',right_on='Club'))\n",
    "both"
   ]
  },
  {
   "cell_type": "markdown",
   "metadata": {},
   "source": [
    "# Keeping the club column in a separate dataframe"
   ]
  },
  {
   "cell_type": "code",
   "execution_count": null,
   "metadata": {},
   "outputs": [],
   "source": [
    "d1 = both.iloc[:,0:1]\n",
    "\n",
    "print(d1)\n",
    "print(type(d1))"
   ]
  },
  {
   "cell_type": "markdown",
   "metadata": {},
   "source": [
    "# Keeping FIFA 19 and 20 stats in a separate dataframe"
   ]
  },
  {
   "cell_type": "code",
   "execution_count": null,
   "metadata": {},
   "outputs": [],
   "source": [
    "d2 = both.iloc[:,1:31]\n",
    "d2"
   ]
  },
  {
   "cell_type": "markdown",
   "metadata": {},
   "source": [
    "# Keeping the column names same for both dataframes"
   ]
  },
  {
   "cell_type": "code",
   "execution_count": null,
   "metadata": {},
   "outputs": [],
   "source": [
    "d3 = both.iloc[:,31:]\n",
    "d3.columns = list(d2.columns)\n",
    "d3"
   ]
  },
  {
   "cell_type": "markdown",
   "metadata": {},
   "source": [
    "# Combining 2 dataframes and calculating the mean of each attribute"
   ]
  },
  {
   "cell_type": "code",
   "execution_count": null,
   "metadata": {},
   "outputs": [],
   "source": [
    "d4 = pd.concat([d2,d3])\n",
    "d5 = d4.groupby(d4.index)\n",
    "d6 = d5.mean()\n",
    "d6.head()\n",
    "d6['Club'] = both['Club']\n",
    "club = d6['Club']\n",
    "d6.drop(labels=['Club'],axis=1,inplace=True)\n",
    "d6.insert(0,'Club',club)\n",
    "d6\n",
    "d6.columns = list(teams_20.columns)\n",
    "d6"
   ]
  },
  {
   "cell_type": "markdown",
   "metadata": {},
   "source": [
    "# Importing previous season(2018-19) results of EPL "
   ]
  },
  {
   "cell_type": "code",
   "execution_count": null,
   "metadata": {},
   "outputs": [],
   "source": [
    "uk = pd.read_csv('UK.csv',sep=';',encoding='latin-1')"
   ]
  },
  {
   "cell_type": "code",
   "execution_count": null,
   "metadata": {},
   "outputs": [],
   "source": [
    "uk.head()"
   ]
  },
  {
   "cell_type": "markdown",
   "metadata": {},
   "source": [
    "# Retaining only relevant columns"
   ]
  },
  {
   "cell_type": "code",
   "execution_count": null,
   "metadata": {},
   "outputs": [],
   "source": [
    "uk = uk[['HomeTeam','AwayTeam','FTHG','FTAG','FTR']]\n",
    "uk.head()"
   ]
  },
  {
   "cell_type": "code",
   "execution_count": null,
   "metadata": {},
   "outputs": [],
   "source": [
    "uk['HomeTeam'].describe()"
   ]
  },
  {
   "cell_type": "markdown",
   "metadata": {},
   "source": [
    "# Creating Homestats and Awaystats dataframes from stats dataframe"
   ]
  },
  {
   "cell_type": "code",
   "execution_count": null,
   "metadata": {},
   "outputs": [],
   "source": [
    "HomeStats = d6\n",
    "HomeStats = HomeStats.add_prefix('Home ')\n",
    "AwayStats = d6\n",
    "AwayStats = AwayStats.add_prefix('Away ')\n"
   ]
  },
  {
   "cell_type": "code",
   "execution_count": null,
   "metadata": {
    "scrolled": true
   },
   "outputs": [],
   "source": [
    "HomeStats = HomeStats.rename(columns={'Home Club':'Club'})\n",
    "HomeStats.head()"
   ]
  },
  {
   "cell_type": "code",
   "execution_count": null,
   "metadata": {},
   "outputs": [],
   "source": [
    "AwayStats = AwayStats.rename(columns={'Away Club':'Club'})\n",
    "AwayStats.head()"
   ]
  },
  {
   "cell_type": "markdown",
   "metadata": {},
   "source": [
    "# Merging the results and Homestats dataframe"
   ]
  },
  {
   "cell_type": "code",
   "execution_count": null,
   "metadata": {},
   "outputs": [],
   "source": [
    "res1 = pd.merge(uk,HomeStats,'left',left_on='HomeTeam',right_on='Club')"
   ]
  },
  {
   "cell_type": "code",
   "execution_count": null,
   "metadata": {},
   "outputs": [],
   "source": [
    "res1.head()"
   ]
  },
  {
   "cell_type": "markdown",
   "metadata": {},
   "source": [
    "# Merging the AwayTeam stats to the res1 dataframe"
   ]
  },
  {
   "cell_type": "code",
   "execution_count": null,
   "metadata": {},
   "outputs": [],
   "source": [
    "alltable = pd.merge(res1,AwayStats, 'left',left_on = 'AwayTeam',right_on='Club')\n",
    "alltable.head()"
   ]
  },
  {
   "cell_type": "markdown",
   "metadata": {},
   "source": [
    "# Checking for NULL values"
   ]
  },
  {
   "cell_type": "code",
   "execution_count": null,
   "metadata": {},
   "outputs": [],
   "source": [
    "nan = alltable[alltable['Club_x'].isna()]\n",
    "nan['HomeTeam'].unique()"
   ]
  },
  {
   "cell_type": "code",
   "execution_count": null,
   "metadata": {},
   "outputs": [],
   "source": [
    "alltable.info()"
   ]
  },
  {
   "cell_type": "markdown",
   "metadata": {},
   "source": [
    "# Removing club names to have pure data"
   ]
  },
  {
   "cell_type": "code",
   "execution_count": null,
   "metadata": {},
   "outputs": [],
   "source": [
    "table = alltable.drop(columns=['HomeTeam','AwayTeam','Club_x','Club_y'])\n",
    "table.head()"
   ]
  },
  {
   "cell_type": "markdown",
   "metadata": {},
   "source": [
    "# Replacing values in FTR columns to 1,2,0 for home win,away win and a draw respectively"
   ]
  },
  {
   "cell_type": "code",
   "execution_count": null,
   "metadata": {},
   "outputs": [],
   "source": [
    "table['FTR'] = table['FTR'].replace(['H','A','D'],[1,2,0])\n",
    "table.head()"
   ]
  },
  {
   "cell_type": "markdown",
   "metadata": {},
   "source": [
    "# Dropping the total goals scored columns as we need only the results"
   ]
  },
  {
   "cell_type": "code",
   "execution_count": null,
   "metadata": {},
   "outputs": [],
   "source": [
    "tablek=table.iloc[:,2:]\n",
    "tablek.info()"
   ]
  },
  {
   "cell_type": "markdown",
   "metadata": {},
   "source": [
    "# Standardizing all the columns "
   ]
  },
  {
   "cell_type": "code",
   "execution_count": null,
   "metadata": {},
   "outputs": [],
   "source": [
    "from sklearn.preprocessing import StandardScaler\n",
    "scaler = StandardScaler()\n",
    "scaler.fit(tablek.iloc[:,1:])\n",
    "scaled_feat = scaler.transform(tablek.iloc[:,1:])\n",
    "tablek_feat = pd.DataFrame(scaled_feat,tablek.iloc[:,1:])\n",
    "X = tablek_feat\n",
    "y = tablek['FTR']"
   ]
  },
  {
   "cell_type": "markdown",
   "metadata": {},
   "source": [
    "# Splitting the data into train and test set with 60% and 40% respectively"
   ]
  },
  {
   "cell_type": "code",
   "execution_count": null,
   "metadata": {},
   "outputs": [],
   "source": [
    "from sklearn.model_selection import train_test_split\n",
    "X_train,X_test,y_train,y_test = train_test_split(X,y, test_size=0.4, random_state=8)\n",
    "from sklearn.neighbors import KNeighborsClassifier\n",
    "knn = KNeighborsClassifier(n_neighbors=3)\n",
    "knn.fit(X_train,y_train)\n",
    "pred = knn.predict(X_test)\n",
    "from sklearn.metrics import classification_report,confusion_matrix\n",
    "print(confusion_matrix(y_test,pred))\n",
    "print(classification_report(y_test,pred))"
   ]
  },
  {
   "cell_type": "markdown",
   "metadata": {},
   "source": [
    "# Plotting Error rate graph to find out the suitable value for KNeighbors"
   ]
  },
  {
   "cell_type": "code",
   "execution_count": null,
   "metadata": {},
   "outputs": [],
   "source": [
    "error_rate=[]\n",
    "\n",
    "for i in range(1,50):\n",
    "    \n",
    "    knn = KNeighborsClassifier(n_neighbors=i)\n",
    "    knn.fit(X_train,y_train)\n",
    "    pred_i = knn.predict(X_test)\n",
    "    error_rate.append(np.mean(pred_i != y_test))\n",
    "\n",
    "mat.figure(figsize=(10,6))\n",
    "mat.plot(range(1,50),error_rate,color='blue', linestyle='dashed', marker='o',\n",
    "         markerfacecolor='red', markersize=10)\n",
    "mat.title('Error Rate vs. K Value')\n",
    "mat.xlabel('K')\n",
    "mat.ylabel('Error Rate')"
   ]
  },
  {
   "cell_type": "markdown",
   "metadata": {},
   "source": [
    "# Plotting the accuracy scores to pick the KNeighbor value"
   ]
  },
  {
   "cell_type": "code",
   "execution_count": null,
   "metadata": {
    "scrolled": false
   },
   "outputs": [],
   "source": [
    "from sklearn import metrics\n",
    "k_range= range(1,50)\n",
    "\n",
    "scores = []\n",
    "\n",
    "for k in k_range:\n",
    "    knn = KNeighborsClassifier(n_neighbors=k)\n",
    "    knn.fit(X_train, y_train)\n",
    "    y_pred = knn.predict(X_test)\n",
    "    scores.append(metrics.accuracy_score(y_test, y_pred))\n",
    "\n",
    "print(scores)\n",
    "\n",
    "mat.plot(k_range, scores)\n",
    "mat.xlabel('Value of K for KNN')\n",
    "mat.ylabel('Testing Accuracy')"
   ]
  },
  {
   "cell_type": "markdown",
   "metadata": {},
   "source": [
    "# Running the algorithm with KNeighbor 9 as it gives 58% accuracy"
   ]
  },
  {
   "cell_type": "code",
   "execution_count": null,
   "metadata": {
    "scrolled": false
   },
   "outputs": [],
   "source": [
    "from sklearn.neighbors import KNeighborsClassifier\n",
    "knn = KNeighborsClassifier(n_neighbors=9)\n",
    "knn.fit(X_train,y_train)\n",
    "pred=knn.predict(X_test)\n",
    "from sklearn.metrics import classification_report,confusion_matrix\n",
    "print(confusion_matrix(y_test,pred))\n",
    "print(classification_report(y_test,pred))"
   ]
  },
  {
   "cell_type": "markdown",
   "metadata": {},
   "source": [
    "# Importing the 2019-20 EPL season schedule"
   ]
  },
  {
   "cell_type": "code",
   "execution_count": null,
   "metadata": {},
   "outputs": [],
   "source": [
    "epl = pd.read_excel('epl.xls')"
   ]
  },
  {
   "cell_type": "markdown",
   "metadata": {},
   "source": [
    "# Merging the schedule with stats dataframe"
   ]
  },
  {
   "cell_type": "code",
   "execution_count": null,
   "metadata": {
    "scrolled": false
   },
   "outputs": [],
   "source": [
    "table1 = pd.merge(epl,HomeStats,'left',left_on='HOME_TEAM',right_on='Club')\n",
    "table1.head()\n",
    "eplmatches = pd.merge(table1,AwayStats,'left',left_on='AWAY_TEAM',right_on='Club')\n",
    "eplmatches"
   ]
  },
  {
   "cell_type": "code",
   "execution_count": null,
   "metadata": {},
   "outputs": [],
   "source": [
    "eplmatches.info()"
   ]
  },
  {
   "cell_type": "markdown",
   "metadata": {},
   "source": [
    "# Dropping the duplicate columns"
   ]
  },
  {
   "cell_type": "code",
   "execution_count": null,
   "metadata": {},
   "outputs": [],
   "source": [
    "eplmatches=eplmatches.drop(['Club_x','Club_y'],axis=1)\n",
    "eplmatches"
   ]
  },
  {
   "cell_type": "markdown",
   "metadata": {},
   "source": [
    "# Normalizing the data"
   ]
  },
  {
   "cell_type": "code",
   "execution_count": null,
   "metadata": {},
   "outputs": [],
   "source": [
    "scaler.fit(eplmatches.iloc[:,2:])\n",
    "scaled_feat=scaler.transform(eplmatches.iloc[:,2:])\n",
    "tablecl_feat=pd.DataFrame(scaled_feat,eplmatches.iloc[:,2:])\n",
    "Xcl = tablecl_feat\n",
    "predcl=knn.predict(Xcl)"
   ]
  },
  {
   "cell_type": "markdown",
   "metadata": {},
   "source": [
    "# Predicting the results"
   ]
  },
  {
   "cell_type": "code",
   "execution_count": null,
   "metadata": {},
   "outputs": [],
   "source": [
    "eplmatches['Results']=predcl\n",
    "eplresults=eplmatches[['HOME_TEAM','AWAY_TEAM','Results']]\n",
    "eplresults['Homepts']=0\n",
    "eplresults['Awaypts']=0\n",
    "eplresults['Homepts'][eplresults['Results']==1]=3\n",
    "eplresults['Awaypts'][eplresults['Results']==2]=3\n",
    "eplresults['Homepts'][eplresults['Results']==0]=1\n",
    "eplresults['Awaypts'][eplresults['Results']==0]=1\n",
    "eplresults"
   ]
  },
  {
   "cell_type": "markdown",
   "metadata": {},
   "source": [
    "# Grouping home points and away points"
   ]
  },
  {
   "cell_type": "code",
   "execution_count": null,
   "metadata": {
    "scrolled": true
   },
   "outputs": [],
   "source": [
    "hpts=eplresults.groupby(['HOME_TEAM']).sum()\n",
    "hpts=hpts.drop(['Awaypts','Results'],axis=1)\n",
    "apts=eplresults.groupby(['AWAY_TEAM']).sum()\n",
    "apts=apts.drop(['Homepts','Results'],axis=1)\n",
    "apts\n",
    "#apts"
   ]
  },
  {
   "cell_type": "markdown",
   "metadata": {},
   "source": [
    "# Generating the final table"
   ]
  },
  {
   "cell_type": "code",
   "execution_count": null,
   "metadata": {},
   "outputs": [],
   "source": [
    "hpts.reset_index(inplace=True)\n",
    "apts.reset_index(inplace=True)\n",
    "clpred = pd.concat([hpts,apts],axis=1)\n",
    "clpred['Total Points']=clpred['Homepts']+clpred['Awaypts']\n",
    "clpred=clpred.drop(columns=['Homepts','Awaypts','AWAY_TEAM'],axis=1)\n",
    "clpred=clpred.iloc[:,~clpred.columns.duplicated()]\n",
    "clpred\n",
    "clpred=clpred.groupby(['HOME_TEAM']).sum()\n",
    "clpred.sort_values(['Total Points'],ascending=False)\n"
   ]
  },
  {
   "cell_type": "code",
   "execution_count": null,
   "metadata": {},
   "outputs": [],
   "source": []
  }
 ],
 "metadata": {
  "kernelspec": {
   "display_name": "Python 3",
   "language": "python",
   "name": "python3"
  },
  "language_info": {
   "codemirror_mode": {
    "name": "ipython",
    "version": 3
   },
   "file_extension": ".py",
   "mimetype": "text/x-python",
   "name": "python",
   "nbconvert_exporter": "python",
   "pygments_lexer": "ipython3",
   "version": "3.7.3"
  }
 },
 "nbformat": 4,
 "nbformat_minor": 2
}
